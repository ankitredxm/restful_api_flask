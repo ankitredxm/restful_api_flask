{
  "nbformat": 4,
  "nbformat_minor": 0,
  "metadata": {
    "colab": {
      "private_outputs": true,
      "provenance": []
    },
    "kernelspec": {
      "name": "python3",
      "display_name": "Python 3"
    },
    "language_info": {
      "name": "python"
    }
  },
  "cells": [
    {
      "cell_type": "markdown",
      "source": [
        "#Q1. What is a RESTful AP\n",
        "\n",
        "Ans--> A RESTful API (Representational State Transfer) is an architectural style for designing networked applications.\n",
        "It is based on stateless communication, uses HTTP methods (GET, POST, PUT, DELETE), and typically works with\n",
        "JSON data. RESTful APIs are scalable, stateless, and lightweight, making them ideal for web services and\n",
        "applications.\n",
        "\n",
        "\n",
        "#Q2. Explain the concept of API specification]\n",
        "\n",
        "Ans--> API specification is a document or description that outlines how an API is expected to behave. It defines the\n",
        "endpoints, request methods, parameters, response format, and status codes. This helps developers\n",
        "understand how to interact with the API and what results to expect.\n",
        "\n",
        "\n",
        "#Q3. What is Flask, and why is it popular for building APIsd\n",
        "\n",
        "Ans--> Flask is a lightweight Python web framework used to build web applications and APIs. It is popular for its\n",
        "simplicity, flexibility, and minimal setup, which makes it an ideal choice for small to medium-sized projects.\n",
        "Flask is easy to extend with libraries and is highly customizable.\n",
        "\n",
        "\n",
        "#Q4. What is routing in Flaskd\n",
        "\n",
        "Ans--> Routing in Flask is the process of defining URL patterns that map to specific functions (or views). Each route in\n",
        "Flask corresponds to an HTTP request type (GET, POST, etc.) and is used to handle requests and send\n",
        "appropriate responses.\n",
        "\n",
        "\n",
        "#Q5. How do you create a simple Flask applicationd\n",
        "\n",
        "Ans--> To create a simple Flask application, first install Flask using pip (pip install flask). Then, import Flask, create an\n",
        "instance of the Flask class, and define routes using decorators. Finally, use app.run() to start the server.\n",
        "\n",
        "\n",
        "#Q6. What are HTTP methods used in RESTful APIsd\n",
        "\n",
        "Ans--> HTTP methods commonly used in RESTful APIs include GET (retrieve data), POST (create data), PUT (update\n",
        "data), DELETE (delete data), and PATCH (partially update data). These methods define the operations that\n",
        "can be performed on resources.\n",
        "\n",
        "\n",
        "#Q7. What is the purpose of the @app.route() decorator in Flaskd\n",
        "\n",
        "Ans--> The @app.route() decorator in Flask is used to define the URL for a route. It binds a function to a specific URL\n",
        "pattern and HTTP method, allowing the function to be triggered when that URL is accessed.\n",
        "\n",
        "\n",
        "#Q8. What is the difference between GET and POST HTTP methodsd\n",
        "\n",
        "Ans--> The GET method retrieves data from the server and should not modify any data. POST, on the other hand, is\n",
        "used to send data to the server, typically to create or update resources. GET requests are generally cached,\n",
        "while POST requests are not.\n",
        "\n",
        "Restful API & Flask\n",
        "Java + DSA Pwskills\n",
        "#Q9. How do you handle errors in Flask APIs]\n",
        "\n",
        "Ans--> Flask provides error handling via @app.errorhandler() or by manually raising exceptions within routes.\n",
        "Commonly, HTTP status codes like 404 (not found), 400 (bad request), and 500 (internal server error) are\n",
        "used to indicate different errors. Custom error messages can also be returned in the response.\n",
        "\n",
        "\n",
        "#Q10. How do you connect Flask to a SQL database]\n",
        "\n",
        "Ans--> Flask can be connected to a SQL database using libraries such as Flask-SQLAlchemy. First, install\n",
        "SQLAlchemy (pip install flask-sqlalchemy), configure the database URI, and create models representing the\n",
        "database tables. You can then query and manipulate the database using SQLAlchemy ORM methods.\n",
        "\n",
        "\n",
        "#Q11. What is the role of Flask-SQLAlchemy]\n",
        "\n",
        "Ans--> Flask-SQLAlchemy is an extension for Flask that simplifies database interaction by integrating SQLAlchemy\n",
        "with Flask. It provides an ORM (Object-Relational Mapping) to map Python classes to database tables,\n",
        "making it easier to query and manage databases within Flask applications.\n",
        "\n",
        "\n",
        "#Q12. What are Flask blueprints and how are they useful]\n",
        "\n",
        "Ans--> Flask blueprints allow you to organize your application into modular components. Each blueprint can contain\n",
        "routes, views, templates, and static files. This is useful for larger applications, as it helps in separating\n",
        "different parts of the application for better structure and maintainability.\n",
        "\n",
        "\n",
        "#Q13. What is the purpose of Flask's request object]\n",
        "\n",
        "Ans--> The request object in Flask is used to access incoming HTTP request data, including form data, JSON\n",
        "payloads, URL parameters, and headers. It is essential for handling data sent by clients when interacting with\n",
        "an API.\n",
        "\n",
        "\n",
        "#Q14. How do you create a RESTful API endpoint using Flask]\n",
        "\n",
        "Ans--> To create a RESTful API endpoint in Flask, define a function using the @app.route() decorator, specifying the\n",
        "HTTP method (e.g., GET or POST). The function will handle incoming requests and return a response, often in\n",
        "JSON format.\n",
        "\n",
        "\n",
        "#Q15. What is the purpose of Flask's jsonify() function]\n",
        "\n",
        "Ans--> The jsonify() function in Flask is used to convert Python dictionaries or lists into JSON format and set the\n",
        "appropriate response headers. This function makes it easier to send JSON responses from a Flask API.\n",
        "\n",
        "\n",
        "#Q16. Explain Flask’s url_for() functiona\n",
        "\n",
        "Ans--> url_for() is a Flask function used to generate a URL for a given endpoint or view function. This is useful for\n",
        "linking between different parts of the application, and it dynamically builds URLs based on the route names.\n",
        "\n",
        "\n",
        "Q17. How does Flask handle static files (CSS, JavaScript, etc.)]\n",
        "Ans--> Flask serves static files like CSS, JavaScript, and images from a directory called \"static.\" By default, the static\n",
        "folder is accessible through the /static URL. Files placed in this folder can be referenced in HTML templates or\n",
        "returned directly by Flask.\n",
        "Java + DSA Pwskills\n",
        "\n",
        "\n",
        "#Q21. How would you secure a Flask APIK\n",
        "\n",
        "Ans--> Flask API security can be implemented using various methods, including authentication (via tokens like JWT\n",
        "or OAuth), input validation, CORS handling, rate limiting, and encryption of sensitive data. Flask extensions\n",
        "like Flask-JWT and Flask-OAuth can help implement these security features.\n",
        "\n",
        "\n",
        "#Q22. What is the significance of the Flask-RESTful extensionK\n",
        "\n",
        "Ans--> Flask-RESTful is an extension that adds support for quickly building REST APIs. It provides tools for creating\n",
        "resources, handling HTTP methods, and organizing routes. This extension simplifies the process of building\n",
        "APIs by offering convenient features like request parsing and response formatting.\n",
        "\n",
        "\n",
        "#Q23. What is the role of Flask’s session objectK\n",
        "\n",
        "Ans--> The session object in Flask is used to store data between requests, typically for maintaining user sessions.\n",
        "Data stored in the session is usually saved on the client-side (in cookies) and can be used for tracking user\n",
        "activity or authentication."
      ],
      "metadata": {
        "id": "CysfEsDC8lex"
      }
    },
    {
      "cell_type": "markdown",
      "source": [
        "## practical question"
      ],
      "metadata": {
        "id": "IFGx3ovn8tPI"
      }
    },
    {
      "cell_type": "markdown",
      "source": [
        "### Q1. How do you create a basic Flask application?"
      ],
      "metadata": {
        "id": "S3__hpQO0MNi"
      }
    },
    {
      "cell_type": "code",
      "source": [
        "from flask import Flask\n",
        "app = Flask(__name__)\n",
        "\n",
        "@app.route('/')\n",
        "def home():\n",
        "    return 'Hello, Flask!'\n",
        "\n",
        "if __name__ == '__main__':\n",
        "    app.run(debug=True)"
      ],
      "metadata": {
        "id": "KdEIm32Z0R8p"
      },
      "execution_count": null,
      "outputs": []
    },
    {
      "cell_type": "markdown",
      "source": [
        "### Q2. How do you serve static files like images or CSS in Flask?"
      ],
      "metadata": {
        "id": "kE8ZKZLl0QpS"
      }
    },
    {
      "cell_type": "code",
      "source": [
        "from flask import Flask, send_from_directory\n",
        "app = Flask(__name__)\n",
        "\n",
        "@app.route('/static/<filename>')\n",
        "def send_static(filename):\n",
        "    return send_from_directory('static', filename)\n",
        "\n",
        "if __name__ == '__main__':\n",
        "    app.run(debug=True)"
      ],
      "metadata": {
        "id": "BWYzZk1S0Qfu"
      },
      "execution_count": null,
      "outputs": []
    },
    {
      "cell_type": "markdown",
      "source": [
        "### Q3. How do you define different routes with different HTTP methods in Flask?"
      ],
      "metadata": {
        "id": "T8OTu8RG0Qat"
      }
    },
    {
      "cell_type": "code",
      "source": [
        "from flask import Flask\n",
        "app = Flask(__name__)\n",
        "\n",
        "@app.route('/greet', methods=['GET'])\n",
        "def greet():\n",
        "    return \"Hello World!\"\n",
        "\n",
        "if __name__ == '__main__':\n",
        "    app.run(debug=True)"
      ],
      "metadata": {
        "id": "CIDYDQmP0QVq"
      },
      "execution_count": null,
      "outputs": []
    },
    {
      "cell_type": "markdown",
      "source": [
        "### Q4. How do you render HTML templates in Flask?"
      ],
      "metadata": {
        "id": "Y078JQpf0QPy"
      }
    },
    {
      "cell_type": "code",
      "source": [
        "from flask import Flask, render_template\n",
        "app = Flask(__name__)\n",
        "\n",
        "@app.route('/')\n",
        "def index():\n",
        "    return render_template('index.html')\n",
        "\n",
        "if __name__ == '__main__':\n",
        "    app.run(debug=True)"
      ],
      "metadata": {
        "id": "u8O7N4Qe0QLA"
      },
      "execution_count": null,
      "outputs": []
    },
    {
      "cell_type": "markdown",
      "source": [
        "### Q5. How can you generate URLs for routes in Flask using url_for?"
      ],
      "metadata": {
        "id": "Rnh7BBLp0QFV"
      }
    },
    {
      "cell_type": "code",
      "source": [
        "from flask import Flask, url_for\n",
        "app = Flask(__name__)\n",
        "\n",
        "@app.route('/home')\n",
        "def home():\n",
        "    return 'This is the home page.'\n",
        "\n",
        "@app.route('/')\n",
        "def index():\n",
        "    return f'<a href=\"{url_for(\"home\")}\">Go to Home</a>'\n",
        "\n",
        "if __name__ == '__main__':\n",
        "    app.run(debug=True)"
      ],
      "metadata": {
        "id": "IWuIgS2v0P_l"
      },
      "execution_count": null,
      "outputs": []
    },
    {
      "cell_type": "markdown",
      "source": [
        "### Q6. How do you handle forms in Flask?"
      ],
      "metadata": {
        "id": "d7JHLkhr0P6R"
      }
    },
    {
      "cell_type": "code",
      "source": [
        "from flask import Flask, request, render_template\n",
        "app = Flask(__name__)\n",
        "\n",
        "@app.route('/submit', methods=['GET', 'POST'])\n",
        "def submit():\n",
        "    if request.method == 'POST':\n",
        "        name = request.form['name']\n",
        "        return f\"Hello {name}!\"\n",
        "    return render_template('form.html')\n",
        "\n",
        "if __name__ == '__main__':\n",
        "    app.run(debug=True)"
      ],
      "metadata": {
        "id": "DCEsTVlh0P0s"
      },
      "execution_count": null,
      "outputs": []
    },
    {
      "cell_type": "markdown",
      "source": [
        "### Q7. How can you validate form data in Flask?"
      ],
      "metadata": {
        "id": "E2oDsOyN0Pu7"
      }
    },
    {
      "cell_type": "code",
      "source": [
        "from flask import Flask, request, flash, redirect, url_for\n",
        "app = Flask(__name__)\n",
        "app.secret_key = 'secret'\n",
        "\n",
        "@app.route('/login', methods=['POST'])\n",
        "def login():\n",
        "    username = request.form['username']\n",
        "    if not username:\n",
        "        flash('Username is required!')\n",
        "        return redirect(url_for('login'))\n",
        "    return 'Login successful'\n",
        "\n",
        "if __name__ == '__main__':\n",
        "    app.run(debug=True)"
      ],
      "metadata": {
        "id": "3chaj5S50Ppr"
      },
      "execution_count": null,
      "outputs": []
    },
    {
      "cell_type": "markdown",
      "source": [
        "### Q8. How do you manage sessions in Flask?"
      ],
      "metadata": {
        "id": "YvorsmWK0PiU"
      }
    },
    {
      "cell_type": "code",
      "source": [
        "from flask import Flask, session\n",
        "app = Flask(__name__)\n",
        "app.secret_key = 'secret'\n",
        "\n",
        "@app.route('/set_user')\n",
        "def set_user():\n",
        "    session['user'] = 'John'\n",
        "    return 'User set'\n",
        "\n",
        "@app.route('/get_user')\n",
        "def get_user():\n",
        "    return f'Logged in as {session.get(\"user\", \"Guest\")}'\n",
        "\n",
        "if __name__ == '__main__':\n",
        "    app.run(debug=True)"
      ],
      "metadata": {
        "id": "mKCr5kyp0PbT"
      },
      "execution_count": null,
      "outputs": []
    },
    {
      "cell_type": "markdown",
      "source": [
        "### Q9. How do you redirect to a different route in Flask?"
      ],
      "metadata": {
        "id": "88nwAnS-0PSa"
      }
    },
    {
      "cell_type": "code",
      "source": [
        "from flask import Flask, redirect, url_for\n",
        "app = Flask(__name__)\n",
        "\n",
        "@app.route('/redirect_home')\n",
        "def redirect_home():\n",
        "    return redirect(url_for('home'))\n",
        "\n",
        "@app.route('/home')\n",
        "def home():\n",
        "    return 'This is the home page.'\n",
        "\n",
        "if __name__ == '__main__':\n",
        "    app.run(debug=True)"
      ],
      "metadata": {
        "id": "1srlyhqp0PKP"
      },
      "execution_count": null,
      "outputs": []
    },
    {
      "cell_type": "markdown",
      "source": [
        "### Q10. How do you handle errors in Flask (e.g., 404)?"
      ],
      "metadata": {
        "id": "Jg6we5SS0PFB"
      }
    },
    {
      "cell_type": "code",
      "source": [
        "from flask import Flask\n",
        "app = Flask(__name__)\n",
        "\n",
        "@app.errorhandler(404)\n",
        "def page_not_found(e):\n",
        "    return 'Page not found', 404\n",
        "\n",
        "@app.route('/')\n",
        "def home():\n",
        "    return 'Welcome to the home page.'\n",
        "\n",
        "if __name__ == '__main__':\n",
        "    app.run(debug=True)"
      ],
      "metadata": {
        "id": "AIqkSNFx0PAd"
      },
      "execution_count": null,
      "outputs": []
    },
    {
      "cell_type": "markdown",
      "source": [
        "### Q11. How do you structure a Flask app using Blueprints?"
      ],
      "metadata": {
        "id": "HQ4A_hK30O6p"
      }
    },
    {
      "cell_type": "code",
      "source": [
        "from flask import Flask, Blueprint\n",
        "app = Flask(__name__)\n",
        "\n",
        "bp = Blueprint('home', __name__)\n",
        "\n",
        "@bp.route('/')\n",
        "def index():\n",
        "    return 'Home Page'\n",
        "\n",
        "app.register_blueprint(bp)\n",
        "\n",
        "if __name__ == '__main__':\n",
        "    app.run(debug=True)"
      ],
      "metadata": {
        "id": "XMocDXcE0Opt"
      },
      "execution_count": null,
      "outputs": []
    },
    {
      "cell_type": "markdown",
      "source": [
        "### Q12. How do you define a custom Jinja filter in Flask?"
      ],
      "metadata": {
        "id": "3kHnvzaR0Okk"
      }
    },
    {
      "cell_type": "code",
      "source": [
        "from flask import Flask\n",
        "app = Flask(__name__)\n",
        "\n",
        "@app.template_filter('reverse')\n",
        "def reverse_filter(s):\n",
        "    return s[::-1]\n",
        "\n",
        "@app.route('/')\n",
        "def home():\n",
        "    return render_template('home.html', name='Flask')\n",
        "\n",
        "if __name__ == '__main__':\n",
        "    app.run(debug=True)"
      ],
      "metadata": {
        "id": "0ql7-27z0OgV"
      },
      "execution_count": null,
      "outputs": []
    },
    {
      "cell_type": "markdown",
      "source": [
        "### Q13. How can you redirect with query parameters in Flask?"
      ],
      "metadata": {
        "id": "z5AB4N0O0Obt"
      }
    },
    {
      "cell_type": "code",
      "source": [
        "from flask import Flask, redirect, url_for\n",
        "app = Flask(__name__)\n",
        "\n",
        "@app.route('/redirect_with_query')\n",
        "def redirect_with_query():\n",
        "    return redirect(url_for('home', username='John'))\n",
        "\n",
        "@app.route('/home')\n",
        "def home():\n",
        "    return f'Welcome, {request.args.get(\"username\")}'\n",
        "\n",
        "if __name__ == '__main__':\n",
        "    app.run(debug=True)"
      ],
      "metadata": {
        "id": "vhhdcN8_0OWY"
      },
      "execution_count": null,
      "outputs": []
    },
    {
      "cell_type": "markdown",
      "source": [
        "### Q14. How do you return JSON responses in Flask?"
      ],
      "metadata": {
        "id": "NHIGbrKl0OSQ"
      }
    },
    {
      "cell_type": "code",
      "source": [
        "from flask import Flask, jsonify\n",
        "app = Flask(__name__)\n",
        "\n",
        "@app.route('/data')\n",
        "def data():\n",
        "    return jsonify({\"name\": \"Flask\", \"version\": \"2.0\"})\n",
        "\n",
        "if __name__ == '__main__':\n",
        "    app.run(debug=True)"
      ],
      "metadata": {
        "id": "xq0ZOKF30ONn"
      },
      "execution_count": null,
      "outputs": []
    },
    {
      "cell_type": "markdown",
      "source": [
        "### Q15. How do you capture URL parameters in Flask?"
      ],
      "metadata": {
        "id": "PPxDqdDV0OI3"
      }
    },
    {
      "cell_type": "code",
      "source": [
        "from flask import Flask\n",
        "app = Flask(__name__)\n",
        "\n",
        "@app.route('/user/<username>')\n",
        "def user(username):\n",
        "    return f\"Hello {username}!\"\n",
        "\n",
        "if __name__ == '__main__':\n",
        "    app.run(debug=True)"
      ],
      "metadata": {
        "id": "hXE0wg5e0OEt"
      },
      "execution_count": null,
      "outputs": []
    },
    {
      "cell_type": "markdown",
      "source": [
        "### 16. How do you handle multiple HTTP methods in a single route in Flask?"
      ],
      "metadata": {
        "id": "koCh8-WK0N_8"
      }
    },
    {
      "cell_type": "code",
      "source": [
        "from flask import Flask, request\n",
        "app = Flask(__name__)\n",
        "\n",
        "@app.route('/action', methods=['GET', 'POST'])\n",
        "def action():\n",
        "    if request.method == 'POST':\n",
        "        return 'POST request received'\n",
        "    return 'GET request received'\n",
        "\n",
        "if __name__ == '__main__':\n",
        "    app.run(debug=True)"
      ],
      "metadata": {
        "id": "B_K0NYDi0N7l"
      },
      "execution_count": null,
      "outputs": []
    },
    {
      "cell_type": "markdown",
      "source": [
        "### Q17. How do you pass arguments to url_for in Flask?"
      ],
      "metadata": {
        "id": "kuWpv5E-0N2s"
      }
    },
    {
      "cell_type": "code",
      "source": [
        "from flask import Flask, url_for\n",
        "app = Flask(__name__)\n",
        "\n",
        "@app.route('/profile/<username>')\n",
        "def profile(username):\n",
        "    return f\"Profile of {username}\"\n",
        "\n",
        "@app.route('/')\n",
        "def index():\n",
        "    return redirect(url_for('profile', username='John'))\n",
        "\n",
        "if __name__ == '__main__':\n",
        "    app.run(debug=True)"
      ],
      "metadata": {
        "id": "DIhavBJ40NxK"
      },
      "execution_count": null,
      "outputs": []
    },
    {
      "cell_type": "markdown",
      "source": [
        "### Q18. How do you serve dynamic content from a template in Flask?"
      ],
      "metadata": {
        "id": "xqSeezda0NsR"
      }
    },
    {
      "cell_type": "code",
      "source": [
        "from flask import Flask, render_template\n",
        "app = Flask(__name__)\n",
        "\n",
        "@app.route('/hello/<name>')\n",
        "def hello(name):\n",
        "    return render_template('hello.html', name=name)\n",
        "\n",
        "if __name__ == '__main__':\n",
        "    app.run(debug=True)"
      ],
      "metadata": {
        "id": "AxBxbpv10NnX"
      },
      "execution_count": null,
      "outputs": []
    },
    {
      "cell_type": "markdown",
      "source": [
        "### Q19. How do you pass complex data structures (like lists or dictionaries) to templates?"
      ],
      "metadata": {
        "id": "pOGIkXQA0NiS"
      }
    },
    {
      "cell_type": "code",
      "source": [
        "from flask import Flask, render_template\n",
        "app = Flask(__name__)\n",
        "\n",
        "@app.route('/user_list')\n",
        "def user_list():\n",
        "    users = [{'name': 'John', 'age': 28}, {'name': 'Alice', 'age': 24}]\n",
        "    return render_template('users.html', users=users)\n",
        "\n",
        "if __name__ == '__main__':\n",
        "    app.run(debug=True)"
      ],
      "metadata": {
        "id": "9y74KiK70NdV"
      },
      "execution_count": null,
      "outputs": []
    },
    {
      "cell_type": "markdown",
      "source": [
        "### Q20. How do you handle optional URL parameters in Flask?"
      ],
      "metadata": {
        "id": "G-7JaVPl0NXr"
      }
    },
    {
      "cell_type": "code",
      "source": [
        "from flask import Flask\n",
        "app = Flask(__name__)\n",
        "\n",
        "@app.route('/hello/<name>')\n",
        "def hello(name='Guest'):\n",
        "    return f'Hello {name}!'\n",
        "\n",
        "if __name__ == '__main__':\n",
        "    app.run(debug=True)"
      ],
      "metadata": {
        "id": "eH09K17Q0MHq"
      },
      "execution_count": null,
      "outputs": []
    },
    {
      "cell_type": "markdown",
      "source": [
        "### 21. How do you handle file uploads in Flask?"
      ],
      "metadata": {
        "id": "NkFgjAOq0MB7"
      }
    },
    {
      "cell_type": "code",
      "source": [
        "from flask import Flask, request\n",
        "app = Flask(__name__)\n",
        "\n",
        "@app.route('/upload', methods=['GET', 'POST'])\n",
        "def upload_file():\n",
        "    if request.method == 'POST':\n",
        "        file = request.files['file']\n",
        "        file.save(f'./uploads/{file.filename}')\n",
        "        return 'File uploaded successfully'\n",
        "    return '''\n",
        "        <form method=\"POST\" enctype=\"multipart/form-data\">\n",
        "            <input type=\"file\" name=\"file\">\n",
        "            <input type=\"submit\">\n",
        "        </form>\n",
        "    '''\n",
        "\n",
        "if __name__ == '__main__':\n",
        "    app.run(debug=True)"
      ],
      "metadata": {
        "id": "80eZA5Xw0L5_"
      },
      "execution_count": null,
      "outputs": []
    },
    {
      "cell_type": "markdown",
      "source": [
        "### Q22. How can you enable debugging in Flask to track errors and view changes instantly?"
      ],
      "metadata": {
        "id": "VqsWHbsG0L0J"
      }
    },
    {
      "cell_type": "code",
      "source": [
        "from flask import Flask\n",
        "app = Flask(__name__)\n",
        "\n",
        "app.debug = True\n",
        "\n",
        "@app.route('/')\n",
        "def home():\n",
        "    return \"Debugging enabled!\"\n",
        "\n",
        "if __name__ == '__main__':\n",
        "    app.run()"
      ],
      "metadata": {
        "id": "uIlPQtbz0LvD"
      },
      "execution_count": null,
      "outputs": []
    },
    {
      "cell_type": "markdown",
      "source": [
        "### Q23. How do you customize error pages in Flask?"
      ],
      "metadata": {
        "id": "PxvVyVUM0Loy"
      }
    },
    {
      "cell_type": "code",
      "source": [
        "from flask import Flask, render_template\n",
        "app = Flask(__name__)\n",
        "\n",
        "@app.route('/')\n",
        "def home():\n",
        "    return 'Home Page'\n",
        "\n",
        "@app.errorhandler(404)\n",
        "def page_not_found(e):\n",
        "    return render_template('404.html'), 404\n",
        "\n",
        "if __name__ == '__main__':\n",
        "    app.run(debug=True)"
      ],
      "metadata": {
        "id": "GvAZ7VT50LkE"
      },
      "execution_count": null,
      "outputs": []
    }
  ]
}